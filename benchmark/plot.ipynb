{
 "cells": [
  {
   "cell_type": "code",
   "execution_count": 16,
   "metadata": {
    "collapsed": false
   },
   "outputs": [
    {
     "name": "stdout",
     "output_type": "stream",
     "text": [
      "Populating the interactive namespace from numpy and matplotlib\n"
     ]
    }
   ],
   "source": [
    "%pylab inline"
   ]
  },
  {
   "cell_type": "code",
   "execution_count": 17,
   "metadata": {
    "collapsed": true
   },
   "outputs": [],
   "source": [
    "import pandas as pd"
   ]
  },
  {
   "cell_type": "code",
   "execution_count": 18,
   "metadata": {
    "collapsed": false
   },
   "outputs": [],
   "source": [
    "baseline = pd.read_table(\"baseline.tsv\", index_col=False)"
   ]
  },
  {
   "cell_type": "code",
   "execution_count": 19,
   "metadata": {
    "collapsed": false
   },
   "outputs": [
    {
     "data": {
      "text/html": [
       "<div>\n",
       "<table border=\"1\" class=\"dataframe\">\n",
       "  <thead>\n",
       "    <tr style=\"text-align: right;\">\n",
       "      <th></th>\n",
       "      <th>type</th>\n",
       "      <th>size</th>\n",
       "      <th>w</th>\n",
       "      <th>bench_getindex</th>\n",
       "      <th>bench_setindex</th>\n",
       "    </tr>\n",
       "  </thead>\n",
       "  <tbody>\n",
       "    <tr>\n",
       "      <th>0</th>\n",
       "      <td>UInt8</td>\n",
       "      <td>1000000</td>\n",
       "      <td>1</td>\n",
       "      <td>3.248641e-10</td>\n",
       "      <td>4.304084e-10</td>\n",
       "    </tr>\n",
       "    <tr>\n",
       "      <th>1</th>\n",
       "      <td>UInt8</td>\n",
       "      <td>1000000</td>\n",
       "      <td>2</td>\n",
       "      <td>3.564855e-10</td>\n",
       "      <td>4.120551e-10</td>\n",
       "    </tr>\n",
       "    <tr>\n",
       "      <th>2</th>\n",
       "      <td>UInt8</td>\n",
       "      <td>1000000</td>\n",
       "      <td>3</td>\n",
       "      <td>3.237050e-10</td>\n",
       "      <td>4.099431e-10</td>\n",
       "    </tr>\n",
       "    <tr>\n",
       "      <th>3</th>\n",
       "      <td>UInt8</td>\n",
       "      <td>1000000</td>\n",
       "      <td>4</td>\n",
       "      <td>3.746551e-10</td>\n",
       "      <td>4.502266e-10</td>\n",
       "    </tr>\n",
       "    <tr>\n",
       "      <th>4</th>\n",
       "      <td>UInt8</td>\n",
       "      <td>1000000</td>\n",
       "      <td>5</td>\n",
       "      <td>3.792640e-10</td>\n",
       "      <td>4.443318e-10</td>\n",
       "    </tr>\n",
       "    <tr>\n",
       "      <th>5</th>\n",
       "      <td>UInt8</td>\n",
       "      <td>1000000</td>\n",
       "      <td>6</td>\n",
       "      <td>3.251940e-10</td>\n",
       "      <td>4.099108e-10</td>\n",
       "    </tr>\n",
       "    <tr>\n",
       "      <th>6</th>\n",
       "      <td>UInt8</td>\n",
       "      <td>1000000</td>\n",
       "      <td>7</td>\n",
       "      <td>3.440251e-10</td>\n",
       "      <td>4.233959e-10</td>\n",
       "    </tr>\n",
       "    <tr>\n",
       "      <th>7</th>\n",
       "      <td>UInt8</td>\n",
       "      <td>1000000</td>\n",
       "      <td>8</td>\n",
       "      <td>3.263358e-10</td>\n",
       "      <td>4.724740e-10</td>\n",
       "    </tr>\n",
       "    <tr>\n",
       "      <th>8</th>\n",
       "      <td>UInt16</td>\n",
       "      <td>1000000</td>\n",
       "      <td>1</td>\n",
       "      <td>3.566571e-10</td>\n",
       "      <td>7.250426e-10</td>\n",
       "    </tr>\n",
       "    <tr>\n",
       "      <th>9</th>\n",
       "      <td>UInt16</td>\n",
       "      <td>1000000</td>\n",
       "      <td>2</td>\n",
       "      <td>3.238783e-10</td>\n",
       "      <td>6.893965e-10</td>\n",
       "    </tr>\n",
       "    <tr>\n",
       "      <th>10</th>\n",
       "      <td>UInt16</td>\n",
       "      <td>1000000</td>\n",
       "      <td>3</td>\n",
       "      <td>3.427086e-10</td>\n",
       "      <td>6.542345e-10</td>\n",
       "    </tr>\n",
       "    <tr>\n",
       "      <th>11</th>\n",
       "      <td>UInt16</td>\n",
       "      <td>1000000</td>\n",
       "      <td>4</td>\n",
       "      <td>3.245422e-10</td>\n",
       "      <td>7.180857e-10</td>\n",
       "    </tr>\n",
       "    <tr>\n",
       "      <th>12</th>\n",
       "      <td>UInt16</td>\n",
       "      <td>1000000</td>\n",
       "      <td>5</td>\n",
       "      <td>3.271594e-10</td>\n",
       "      <td>6.567893e-10</td>\n",
       "    </tr>\n",
       "    <tr>\n",
       "      <th>13</th>\n",
       "      <td>UInt16</td>\n",
       "      <td>1000000</td>\n",
       "      <td>6</td>\n",
       "      <td>3.243963e-10</td>\n",
       "      <td>6.561768e-10</td>\n",
       "    </tr>\n",
       "    <tr>\n",
       "      <th>14</th>\n",
       "      <td>UInt16</td>\n",
       "      <td>1000000</td>\n",
       "      <td>7</td>\n",
       "      <td>3.230465e-10</td>\n",
       "      <td>6.537216e-10</td>\n",
       "    </tr>\n",
       "    <tr>\n",
       "      <th>15</th>\n",
       "      <td>UInt16</td>\n",
       "      <td>1000000</td>\n",
       "      <td>8</td>\n",
       "      <td>3.228494e-10</td>\n",
       "      <td>6.540563e-10</td>\n",
       "    </tr>\n",
       "    <tr>\n",
       "      <th>16</th>\n",
       "      <td>UInt16</td>\n",
       "      <td>1000000</td>\n",
       "      <td>9</td>\n",
       "      <td>3.238922e-10</td>\n",
       "      <td>6.530735e-10</td>\n",
       "    </tr>\n",
       "    <tr>\n",
       "      <th>17</th>\n",
       "      <td>UInt16</td>\n",
       "      <td>1000000</td>\n",
       "      <td>10</td>\n",
       "      <td>3.233171e-10</td>\n",
       "      <td>7.041536e-10</td>\n",
       "    </tr>\n",
       "    <tr>\n",
       "      <th>18</th>\n",
       "      <td>UInt16</td>\n",
       "      <td>1000000</td>\n",
       "      <td>11</td>\n",
       "      <td>3.231763e-10</td>\n",
       "      <td>6.959821e-10</td>\n",
       "    </tr>\n",
       "    <tr>\n",
       "      <th>19</th>\n",
       "      <td>UInt16</td>\n",
       "      <td>1000000</td>\n",
       "      <td>12</td>\n",
       "      <td>3.241715e-10</td>\n",
       "      <td>7.148275e-10</td>\n",
       "    </tr>\n",
       "    <tr>\n",
       "      <th>20</th>\n",
       "      <td>UInt16</td>\n",
       "      <td>1000000</td>\n",
       "      <td>13</td>\n",
       "      <td>3.415567e-10</td>\n",
       "      <td>7.247402e-10</td>\n",
       "    </tr>\n",
       "    <tr>\n",
       "      <th>21</th>\n",
       "      <td>UInt16</td>\n",
       "      <td>1000000</td>\n",
       "      <td>14</td>\n",
       "      <td>3.338186e-10</td>\n",
       "      <td>7.363019e-10</td>\n",
       "    </tr>\n",
       "    <tr>\n",
       "      <th>22</th>\n",
       "      <td>UInt16</td>\n",
       "      <td>1000000</td>\n",
       "      <td>15</td>\n",
       "      <td>3.226843e-10</td>\n",
       "      <td>6.848946e-10</td>\n",
       "    </tr>\n",
       "    <tr>\n",
       "      <th>23</th>\n",
       "      <td>UInt16</td>\n",
       "      <td>1000000</td>\n",
       "      <td>16</td>\n",
       "      <td>3.303692e-10</td>\n",
       "      <td>6.690316e-10</td>\n",
       "    </tr>\n",
       "  </tbody>\n",
       "</table>\n",
       "</div>"
      ],
      "text/plain": [
       "      type     size   w  bench_getindex  bench_setindex\n",
       "0    UInt8  1000000   1    3.248641e-10    4.304084e-10\n",
       "1    UInt8  1000000   2    3.564855e-10    4.120551e-10\n",
       "2    UInt8  1000000   3    3.237050e-10    4.099431e-10\n",
       "3    UInt8  1000000   4    3.746551e-10    4.502266e-10\n",
       "4    UInt8  1000000   5    3.792640e-10    4.443318e-10\n",
       "5    UInt8  1000000   6    3.251940e-10    4.099108e-10\n",
       "6    UInt8  1000000   7    3.440251e-10    4.233959e-10\n",
       "7    UInt8  1000000   8    3.263358e-10    4.724740e-10\n",
       "8   UInt16  1000000   1    3.566571e-10    7.250426e-10\n",
       "9   UInt16  1000000   2    3.238783e-10    6.893965e-10\n",
       "10  UInt16  1000000   3    3.427086e-10    6.542345e-10\n",
       "11  UInt16  1000000   4    3.245422e-10    7.180857e-10\n",
       "12  UInt16  1000000   5    3.271594e-10    6.567893e-10\n",
       "13  UInt16  1000000   6    3.243963e-10    6.561768e-10\n",
       "14  UInt16  1000000   7    3.230465e-10    6.537216e-10\n",
       "15  UInt16  1000000   8    3.228494e-10    6.540563e-10\n",
       "16  UInt16  1000000   9    3.238922e-10    6.530735e-10\n",
       "17  UInt16  1000000  10    3.233171e-10    7.041536e-10\n",
       "18  UInt16  1000000  11    3.231763e-10    6.959821e-10\n",
       "19  UInt16  1000000  12    3.241715e-10    7.148275e-10\n",
       "20  UInt16  1000000  13    3.415567e-10    7.247402e-10\n",
       "21  UInt16  1000000  14    3.338186e-10    7.363019e-10\n",
       "22  UInt16  1000000  15    3.226843e-10    6.848946e-10\n",
       "23  UInt16  1000000  16    3.303692e-10    6.690316e-10"
      ]
     },
     "execution_count": 19,
     "metadata": {},
     "output_type": "execute_result"
    }
   ],
   "source": [
    "baseline"
   ]
  },
  {
   "cell_type": "code",
   "execution_count": 20,
   "metadata": {
    "collapsed": true
   },
   "outputs": [],
   "source": [
    "intvector = pd.read_table(\"intvector.tsv\", index_col=False)"
   ]
  },
  {
   "cell_type": "code",
   "execution_count": 21,
   "metadata": {
    "collapsed": false
   },
   "outputs": [
    {
     "data": {
      "text/html": [
       "<div>\n",
       "<table border=\"1\" class=\"dataframe\">\n",
       "  <thead>\n",
       "    <tr style=\"text-align: right;\">\n",
       "      <th></th>\n",
       "      <th>type</th>\n",
       "      <th>size</th>\n",
       "      <th>w</th>\n",
       "      <th>bench_getindex</th>\n",
       "      <th>bench_setindex</th>\n",
       "    </tr>\n",
       "  </thead>\n",
       "  <tbody>\n",
       "    <tr>\n",
       "      <th>0</th>\n",
       "      <td>UInt8</td>\n",
       "      <td>1000000</td>\n",
       "      <td>1</td>\n",
       "      <td>7.476375e-10</td>\n",
       "      <td>2.452871e-09</td>\n",
       "    </tr>\n",
       "    <tr>\n",
       "      <th>1</th>\n",
       "      <td>UInt8</td>\n",
       "      <td>1000000</td>\n",
       "      <td>2</td>\n",
       "      <td>8.396781e-10</td>\n",
       "      <td>2.679840e-09</td>\n",
       "    </tr>\n",
       "    <tr>\n",
       "      <th>2</th>\n",
       "      <td>UInt8</td>\n",
       "      <td>1000000</td>\n",
       "      <td>3</td>\n",
       "      <td>7.777962e-10</td>\n",
       "      <td>3.645897e-09</td>\n",
       "    </tr>\n",
       "    <tr>\n",
       "      <th>3</th>\n",
       "      <td>UInt8</td>\n",
       "      <td>1000000</td>\n",
       "      <td>4</td>\n",
       "      <td>8.454720e-10</td>\n",
       "      <td>2.822119e-09</td>\n",
       "    </tr>\n",
       "    <tr>\n",
       "      <th>4</th>\n",
       "      <td>UInt8</td>\n",
       "      <td>1000000</td>\n",
       "      <td>5</td>\n",
       "      <td>7.364564e-10</td>\n",
       "      <td>3.298285e-09</td>\n",
       "    </tr>\n",
       "    <tr>\n",
       "      <th>5</th>\n",
       "      <td>UInt8</td>\n",
       "      <td>1000000</td>\n",
       "      <td>6</td>\n",
       "      <td>7.311917e-10</td>\n",
       "      <td>3.016084e-09</td>\n",
       "    </tr>\n",
       "    <tr>\n",
       "      <th>6</th>\n",
       "      <td>UInt8</td>\n",
       "      <td>1000000</td>\n",
       "      <td>7</td>\n",
       "      <td>7.313262e-10</td>\n",
       "      <td>2.944126e-09</td>\n",
       "    </tr>\n",
       "    <tr>\n",
       "      <th>7</th>\n",
       "      <td>UInt8</td>\n",
       "      <td>1000000</td>\n",
       "      <td>8</td>\n",
       "      <td>7.352096e-10</td>\n",
       "      <td>2.673371e-09</td>\n",
       "    </tr>\n",
       "    <tr>\n",
       "      <th>8</th>\n",
       "      <td>UInt16</td>\n",
       "      <td>1000000</td>\n",
       "      <td>1</td>\n",
       "      <td>7.341312e-10</td>\n",
       "      <td>2.290244e-09</td>\n",
       "    </tr>\n",
       "    <tr>\n",
       "      <th>9</th>\n",
       "      <td>UInt16</td>\n",
       "      <td>1000000</td>\n",
       "      <td>2</td>\n",
       "      <td>7.612468e-10</td>\n",
       "      <td>2.636082e-09</td>\n",
       "    </tr>\n",
       "    <tr>\n",
       "      <th>10</th>\n",
       "      <td>UInt16</td>\n",
       "      <td>1000000</td>\n",
       "      <td>3</td>\n",
       "      <td>7.640554e-10</td>\n",
       "      <td>3.286692e-09</td>\n",
       "    </tr>\n",
       "    <tr>\n",
       "      <th>11</th>\n",
       "      <td>UInt16</td>\n",
       "      <td>1000000</td>\n",
       "      <td>4</td>\n",
       "      <td>7.630753e-10</td>\n",
       "      <td>2.706560e-09</td>\n",
       "    </tr>\n",
       "    <tr>\n",
       "      <th>12</th>\n",
       "      <td>UInt16</td>\n",
       "      <td>1000000</td>\n",
       "      <td>5</td>\n",
       "      <td>1.519149e-09</td>\n",
       "      <td>3.339585e-09</td>\n",
       "    </tr>\n",
       "    <tr>\n",
       "      <th>13</th>\n",
       "      <td>UInt16</td>\n",
       "      <td>1000000</td>\n",
       "      <td>6</td>\n",
       "      <td>7.658241e-10</td>\n",
       "      <td>3.190212e-09</td>\n",
       "    </tr>\n",
       "    <tr>\n",
       "      <th>14</th>\n",
       "      <td>UInt16</td>\n",
       "      <td>1000000</td>\n",
       "      <td>7</td>\n",
       "      <td>7.651336e-10</td>\n",
       "      <td>3.036267e-09</td>\n",
       "    </tr>\n",
       "    <tr>\n",
       "      <th>15</th>\n",
       "      <td>UInt16</td>\n",
       "      <td>1000000</td>\n",
       "      <td>8</td>\n",
       "      <td>7.927989e-10</td>\n",
       "      <td>2.798611e-09</td>\n",
       "    </tr>\n",
       "    <tr>\n",
       "      <th>16</th>\n",
       "      <td>UInt16</td>\n",
       "      <td>1000000</td>\n",
       "      <td>9</td>\n",
       "      <td>7.921280e-10</td>\n",
       "      <td>3.303364e-09</td>\n",
       "    </tr>\n",
       "    <tr>\n",
       "      <th>17</th>\n",
       "      <td>UInt16</td>\n",
       "      <td>1000000</td>\n",
       "      <td>10</td>\n",
       "      <td>7.653217e-10</td>\n",
       "      <td>2.929259e-09</td>\n",
       "    </tr>\n",
       "    <tr>\n",
       "      <th>18</th>\n",
       "      <td>UInt16</td>\n",
       "      <td>1000000</td>\n",
       "      <td>11</td>\n",
       "      <td>7.672717e-10</td>\n",
       "      <td>2.938019e-09</td>\n",
       "    </tr>\n",
       "    <tr>\n",
       "      <th>19</th>\n",
       "      <td>UInt16</td>\n",
       "      <td>1000000</td>\n",
       "      <td>12</td>\n",
       "      <td>8.864903e-10</td>\n",
       "      <td>2.856132e-09</td>\n",
       "    </tr>\n",
       "    <tr>\n",
       "      <th>20</th>\n",
       "      <td>UInt16</td>\n",
       "      <td>1000000</td>\n",
       "      <td>13</td>\n",
       "      <td>7.534425e-10</td>\n",
       "      <td>3.338818e-09</td>\n",
       "    </tr>\n",
       "    <tr>\n",
       "      <th>21</th>\n",
       "      <td>UInt16</td>\n",
       "      <td>1000000</td>\n",
       "      <td>14</td>\n",
       "      <td>7.629659e-10</td>\n",
       "      <td>2.984321e-09</td>\n",
       "    </tr>\n",
       "    <tr>\n",
       "      <th>22</th>\n",
       "      <td>UInt16</td>\n",
       "      <td>1000000</td>\n",
       "      <td>15</td>\n",
       "      <td>7.980725e-10</td>\n",
       "      <td>3.069454e-09</td>\n",
       "    </tr>\n",
       "    <tr>\n",
       "      <th>23</th>\n",
       "      <td>UInt16</td>\n",
       "      <td>1000000</td>\n",
       "      <td>16</td>\n",
       "      <td>7.311248e-10</td>\n",
       "      <td>3.551773e-09</td>\n",
       "    </tr>\n",
       "  </tbody>\n",
       "</table>\n",
       "</div>"
      ],
      "text/plain": [
       "      type     size   w  bench_getindex  bench_setindex\n",
       "0    UInt8  1000000   1    7.476375e-10    2.452871e-09\n",
       "1    UInt8  1000000   2    8.396781e-10    2.679840e-09\n",
       "2    UInt8  1000000   3    7.777962e-10    3.645897e-09\n",
       "3    UInt8  1000000   4    8.454720e-10    2.822119e-09\n",
       "4    UInt8  1000000   5    7.364564e-10    3.298285e-09\n",
       "5    UInt8  1000000   6    7.311917e-10    3.016084e-09\n",
       "6    UInt8  1000000   7    7.313262e-10    2.944126e-09\n",
       "7    UInt8  1000000   8    7.352096e-10    2.673371e-09\n",
       "8   UInt16  1000000   1    7.341312e-10    2.290244e-09\n",
       "9   UInt16  1000000   2    7.612468e-10    2.636082e-09\n",
       "10  UInt16  1000000   3    7.640554e-10    3.286692e-09\n",
       "11  UInt16  1000000   4    7.630753e-10    2.706560e-09\n",
       "12  UInt16  1000000   5    1.519149e-09    3.339585e-09\n",
       "13  UInt16  1000000   6    7.658241e-10    3.190212e-09\n",
       "14  UInt16  1000000   7    7.651336e-10    3.036267e-09\n",
       "15  UInt16  1000000   8    7.927989e-10    2.798611e-09\n",
       "16  UInt16  1000000   9    7.921280e-10    3.303364e-09\n",
       "17  UInt16  1000000  10    7.653217e-10    2.929259e-09\n",
       "18  UInt16  1000000  11    7.672717e-10    2.938019e-09\n",
       "19  UInt16  1000000  12    8.864903e-10    2.856132e-09\n",
       "20  UInt16  1000000  13    7.534425e-10    3.338818e-09\n",
       "21  UInt16  1000000  14    7.629659e-10    2.984321e-09\n",
       "22  UInt16  1000000  15    7.980725e-10    3.069454e-09\n",
       "23  UInt16  1000000  16    7.311248e-10    3.551773e-09"
      ]
     },
     "execution_count": 21,
     "metadata": {},
     "output_type": "execute_result"
    }
   ],
   "source": [
    "intvector"
   ]
  },
  {
   "cell_type": "code",
   "execution_count": 22,
   "metadata": {
    "collapsed": true
   },
   "outputs": [],
   "source": [
    "def plot_benchmark(name, typ):\n",
    "    title(name)\n",
    "    baseline.ix[baseline.type == typ].plot(\n",
    "        label=\"Vector{\" + typ + \"}\", x=\"w\", y=\"bench_\" + name, ax=gca())\n",
    "    intvector.ix[intvector.type == typ].plot(\n",
    "        label=\"IntVecor{w,\" + typ + \"}\" , x=\"w\", y=\"bench_\" + name, ax=gca())\n",
    "    gca().set_ylabel(\"sec / op\")\n",
    "    gca().set_ylim(ymin=0)\n",
    "    grid()\n",
    "    savefig(name + \"_\" + typ + \".png\")"
   ]
  },
  {
   "cell_type": "code",
   "execution_count": 23,
   "metadata": {
    "collapsed": false
   },
   "outputs": [
    {
     "data": {
      "image/png": "[encoded data removed]",
      "text/plain": [
       "<matplotlib.figure.Figure at 0x10d83d550>"
      ]
     },
     "metadata": {},
     "output_type": "display_data"
    }
   ],
   "source": [
    "plot_benchmark(\"getindex\", \"UInt8\")"
   ]
  },
  {
   "cell_type": "code",
   "execution_count": 24,
   "metadata": {
    "collapsed": false
   },
   "outputs": [
    {
     "data": {
      "image/png": "[encoded data removed]",
      "text/plain": [
       "<matplotlib.figure.Figure at 0x10db0f5d0>"
      ]
     },
     "metadata": {},
     "output_type": "display_data"
    }
   ],
   "source": [
    "plot_benchmark(\"setindex\", \"UInt8\")"
   ]
  },
  {
   "cell_type": "code",
   "execution_count": 25,
   "metadata": {
    "collapsed": false
   },
   "outputs": [
    {
     "data": {
      "image/png": "[encoded data removed]",
      "text/plain": [
       "<matplotlib.figure.Figure at 0x10d8b8e50>"
      ]
     },
     "metadata": {},
     "output_type": "display_data"
    }
   ],
   "source": [
    "plot_benchmark(\"getindex\", \"UInt16\")"
   ]
  },
  {
   "cell_type": "code",
   "execution_count": 26,
   "metadata": {
    "collapsed": false
   },
   "outputs": [
    {
     "data": {
      "image/png": "[encoded data removed]",
      "text/plain": [
       "<matplotlib.figure.Figure at 0x10d99d2d0>"
      ]
     },
     "metadata": {},
     "output_type": "display_data"
    }
   ],
   "source": [
    "plot_benchmark(\"setindex\", \"UInt16\")"
   ]
  },
  {
   "cell_type": "code",
   "execution_count": null,
   "metadata": {
    "collapsed": true
   },
   "outputs": [],
   "source": []
  }
 ],
 "metadata": {
  "kernelspec": {
   "display_name": "Python 2",
   "language": "python",
   "name": "python2"
  },
  "language_info": {
   "codemirror_mode": {
    "name": "ipython",
    "version": 2
   },
   "file_extension": ".py",
   "mimetype": "text/x-python",
   "name": "python",
   "nbconvert_exporter": "python",
   "pygments_lexer": "ipython2",
   "version": "2.7.9"
  }
 },
 "nbformat": 4,
 "nbformat_minor": 0
}
